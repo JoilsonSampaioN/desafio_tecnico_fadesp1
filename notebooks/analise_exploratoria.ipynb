{
 "cells": [
  {
   "cell_type": "markdown",
   "id": "0850b9f4",
   "metadata": {},
   "source": [
    "# 📊 Análise Exploratória do Censo e Produção Científica"
   ]
  },
  {
   "cell_type": "code",
   "execution_count": null,
   "id": "0c13b01e",
   "metadata": {},
   "outputs": [],
   "source": [
    "import pandas as pd\n",
    "import numpy as np\n",
    "import matplotlib.pyplot as plt\n",
    "import seaborn as sns\n",
    "import plotly.express as px\n",
    "import sqlite3\n",
    "import scipy.stats as stats\n",
    "import statsmodels.api as sm\n",
    "\n",
    "pd.set_option('display.max_columns', None)\n",
    "sns.set(style=\"whitegrid\")"
   ]
  },
  {
   "cell_type": "code",
   "execution_count": null,
   "id": "73a9feb4",
   "metadata": {},
   "outputs": [],
   "source": [
    "from scripts.limpeza import carregar_e_filtrar\n",
    "\n",
    "base_path = 'data/'\n",
    "df_cursos, df_ies = carregar_e_filtrar(base_path)\n",
    "\n",
    "print(df_cursos.head())\n",
    "print(df_ies.head())"
   ]
  },
  {
   "cell_type": "markdown",
   "id": "a8c48a8d",
   "metadata": {},
   "source": [
    "## Cursos por UF"
   ]
  },
  {
   "cell_type": "code",
   "execution_count": null,
   "id": "8843be32",
   "metadata": {},
   "outputs": [],
   "source": [
    "plt.figure(figsize=(12,6))\n",
    "sns.countplot(data=df_cursos, x='SG_UF', order=df_cursos['SG_UF'].value_counts().index)\n",
    "plt.title('Distribuição de Cursos por UF')\n",
    "plt.xticks(rotation=45)\n",
    "plt.show()"
   ]
  },
  {
   "cell_type": "markdown",
   "id": "a367efe1",
   "metadata": {},
   "source": [
    "## Cursos por Categoria Administrativa"
   ]
  },
  {
   "cell_type": "code",
   "execution_count": null,
   "id": "844c69d7",
   "metadata": {},
   "outputs": [],
   "source": [
    "plt.figure(figsize=(10,6))\n",
    "sns.countplot(data=df_cursos, x='CATEGORIA_ADMINISTRATIVA', order=df_cursos['CATEGORIA_ADMINISTRATIVA'].value_counts().index)\n",
    "plt.title('Cursos por Categoria Administrativa')\n",
    "plt.show()"
   ]
  },
  {
   "cell_type": "markdown",
   "id": "efe175a8",
   "metadata": {},
   "source": [
    "## Cursos por Organização Acadêmica"
   ]
  },
  {
   "cell_type": "code",
   "execution_count": null,
   "id": "bffed872",
   "metadata": {},
   "outputs": [],
   "source": [
    "plt.figure(figsize=(10,6))\n",
    "sns.countplot(data=df_cursos, x='ORGANIZACAO_ACADEMICA', order=df_cursos['ORGANIZACAO_ACADEMICA'].value_counts().index)\n",
    "plt.title('Cursos por Organização Acadêmica')\n",
    "plt.show()"
   ]
  },
  {
   "cell_type": "markdown",
   "id": "b0bea05a",
   "metadata": {},
   "source": [
    "## Heatmap: Cursos por UF vs Organização Acadêmica"
   ]
  },
  {
   "cell_type": "code",
   "execution_count": null,
   "id": "3707347e",
   "metadata": {},
   "outputs": [],
   "source": [
    "pivot = df_cursos.pivot_table(index='SG_UF', columns='ORGANIZACAO_ACADEMICA',\n",
    "                              values='NO_CURSO', aggfunc='count', fill_value=0)\n",
    "plt.figure(figsize=(15,10))\n",
    "sns.heatmap(pivot, annot=True, fmt='d', cmap='YlGnBu')\n",
    "plt.title('Heatmap: Cursos por UF vs Organização Acadêmica')\n",
    "plt.show()"
   ]
  },
  {
   "cell_type": "markdown",
   "id": "d1f548f1",
   "metadata": {},
   "source": [
    "## Consulta SQL Relacional"
   ]
  },
  {
   "cell_type": "code",
   "execution_count": null,
   "id": "3f5f3d30",
   "metadata": {},
   "outputs": [],
   "source": [
    "conn = sqlite3.connect('database.db')\n",
    "\n",
    "query = \"\"\"\n",
    "SELECT \n",
    "    cursos.SG_UF, \n",
    "    COUNT(*) as qtd_cursos,\n",
    "    (SELECT COUNT(*) FROM bolsistas WHERE bolsistas.\"Sigla UF Destino\" = cursos.SG_UF) as qtd_bolsistas\n",
    "FROM cursos\n",
    "GROUP BY cursos.SG_UF\n",
    "ORDER BY qtd_cursos DESC\n",
    "\"\"\"\n",
    "\n",
    "df_sql = pd.read_sql(query, conn)\n",
    "conn.close()\n",
    "\n",
    "print(df_sql)"
   ]
  },
  {
   "cell_type": "markdown",
   "id": "82052f07",
   "metadata": {},
   "source": [
    "## Visualização da Consulta SQL"
   ]
  },
  {
   "cell_type": "code",
   "execution_count": null,
   "id": "46d59bc2",
   "metadata": {},
   "outputs": [],
   "source": [
    "fig = px.bar(df_sql.melt(id_vars='SG_UF', value_vars=['qtd_cursos', 'qtd_bolsistas']),\n",
    "             x='SG_UF', y='value', color='variable',\n",
    "             barmode='group',\n",
    "             labels={'value': 'Quantidade', 'variable': 'Indicador'},\n",
    "             text_auto=True,\n",
    "             title='Comparação: Cursos vs Bolsistas por UF (via SQL)',\n",
    "             width=1000, height=500)\n",
    "fig.show()"
   ]
  },
  {
   "cell_type": "markdown",
   "id": "537d1c0d",
   "metadata": {},
   "source": [
    "## Análise Estatística: Correlação"
   ]
  },
  {
   "cell_type": "code",
   "execution_count": null,
   "id": "9fb06559",
   "metadata": {},
   "outputs": [],
   "source": [
    "corr, p_value = stats.pearsonr(df_sql['qtd_cursos'], df_sql['qtd_bolsistas'])\n",
    "print(f'Correlação Pearson: {corr:.2f} (p-valor: {p_value:.4f})')"
   ]
  },
  {
   "cell_type": "markdown",
   "id": "c9772145",
   "metadata": {},
   "source": [
    "## Regressão Linear"
   ]
  },
  {
   "cell_type": "code",
   "execution_count": null,
   "id": "67c67a71",
   "metadata": {},
   "outputs": [],
   "source": [
    "X = df_sql['qtd_cursos']\n",
    "y = df_sql['qtd_bolsistas']\n",
    "\n",
    "X = sm.add_constant(X)\n",
    "model = sm.OLS(y, X).fit()\n",
    "print(model.summary())"
   ]
  },
  {
   "cell_type": "markdown",
   "id": "654d003a",
   "metadata": {},
   "source": [
    "## Conclusões e Recomendações\n",
    "\n",
    "- Maior concentração de cursos em algumas UFs.\n",
    "- Correlação positiva entre cursos e bolsistas CNPq.\n",
    "- A regressão confirma relação direta.\n",
    "\n",
    "**Recomendações:**\n",
    "\n",
    "- Fomentar bolsas onde há menor densidade.\n",
    "- Incentivar instituições privadas a investir mais em pesquisa.\n",
    "- Melhorar a integração entre bases públicas."
   ]
  }
 ],
 "metadata": {
  "kernelspec": {
   "display_name": "Python 3",
   "language": "python",
   "name": "python3"
  },
  "language_info": {
   "name": "python",
   "version": "3.10"
  }
 },
 "nbformat": 4,
 "nbformat_minor": 5
}
