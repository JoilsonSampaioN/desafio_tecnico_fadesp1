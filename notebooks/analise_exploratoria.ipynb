{
 "cells": [
  {
   "cell_type": "markdown",
   "id": "0850b9f4",
   "metadata": {},
   "source": [
    "# 📊 Análise Exploratória do Censo e Produção Científica"
   ]
  },
  {
   "cell_type": "code",
   "execution_count": 48,
   "id": "0c13b01e",
   "metadata": {},
   "outputs": [],
   "source": [
    "import pandas as pd\n",
    "import numpy as np\n",
    "import matplotlib.pyplot as plt\n",
    "import seaborn as sns\n",
    "import plotly.express as px\n",
    "import sqlite3\n",
    "import scipy.stats as stats\n",
    "import statsmodels.api as sm\n",
    "\n",
    "pd.set_option('display.max_columns', None)\n",
    "sns.set(style=\"whitegrid\")"
   ]
  },
  {
   "cell_type": "code",
   "execution_count": 49,
   "id": "73a9feb4",
   "metadata": {},
   "outputs": [
    {
     "name": "stdout",
     "output_type": "stream",
     "text": [
      "   NU_ANO_CENSO NO_REGIAO  CO_REGIAO NO_UF SG_UF  CO_UF NO_MUNICIPIO  \\\n",
      "0          2023       NaN        NaN   NaN   NaN    NaN          NaN   \n",
      "1          2023       NaN        NaN   NaN   NaN    NaN          NaN   \n",
      "2          2023       NaN        NaN   NaN   NaN    NaN          NaN   \n",
      "3          2023       NaN        NaN   NaN   NaN    NaN          NaN   \n",
      "4          2023       NaN        NaN   NaN   NaN    NaN          NaN   \n",
      "\n",
      "   CO_MUNICIPIO  IN_CAPITAL  TP_DIMENSAO  TP_ORGANIZACAO_ACADEMICA  TP_REDE  \\\n",
      "0           NaN         NaN            2                         1        2   \n",
      "1           NaN         NaN            2                         1        2   \n",
      "2           NaN         NaN            2                         1        2   \n",
      "3           NaN         NaN            2                         2        2   \n",
      "4           NaN         NaN            3                         1        1   \n",
      "\n",
      "   TP_CATEGORIA_ADMINISTRATIVA  IN_COMUNITARIA  IN_CONFESSIONAL  CO_IES  \\\n",
      "0                            4               0                0     417   \n",
      "1                            5               1                0     482   \n",
      "2                            5               1                1      10   \n",
      "3                            4               0                0    1892   \n",
      "4                            1               0                0       1   \n",
      "\n",
      "                NO_CURSO  CO_CURSO         NO_CINE_ROTULO CO_CINE_ROTULO  \\\n",
      "0  Abi - Educação Física   5001662  ABI Saúde e bem-estar      \"0011A09\"   \n",
      "1  Abi - Educação Física  50017101  ABI Saúde e bem-estar      \"0011A09\"   \n",
      "2  Abi - Educação Física   5001649  ABI Saúde e bem-estar      \"0011A09\"   \n",
      "3  Abi - Educação Física   5001694  ABI Saúde e bem-estar      \"0011A09\"   \n",
      "4  Administração Pública   1113617  Administração pública      \"0413A02\"   \n",
      "\n",
      "   CO_CINE_AREA_GERAL                 NO_CINE_AREA_GERAL  \\\n",
      "0                   0                  Programas básicos   \n",
      "1                   0                  Programas básicos   \n",
      "2                   0                  Programas básicos   \n",
      "3                   0                  Programas básicos   \n",
      "4                   4  Negócios, administração e direito   \n",
      "\n",
      "   CO_CINE_AREA_ESPECIFICA   NO_CINE_AREA_ESPECIFICA  CO_CINE_AREA_DETALHADA  \\\n",
      "0                        1         Programas básicos                      11   \n",
      "1                        1         Programas básicos                      11   \n",
      "2                        1         Programas básicos                      11   \n",
      "3                        1         Programas básicos                      11   \n",
      "4                       41  Negócios e administração                     413   \n",
      "\n",
      "   NO_CINE_AREA_DETALHADA  TP_GRAU_ACADEMICO  IN_GRATUITO  \\\n",
      "0       Programas básicos                NaN            0   \n",
      "1       Programas básicos                NaN            0   \n",
      "2       Programas básicos                NaN            0   \n",
      "3       Programas básicos                NaN            0   \n",
      "4  Gestão e administração                1.0            1   \n",
      "\n",
      "   TP_MODALIDADE_ENSINO  TP_NIVEL_ACADEMICO  QT_CURSO  QT_VG_TOTAL  \\\n",
      "0                     2                   1         0            0   \n",
      "1                     2                   1         0            0   \n",
      "2                     2                   1         0            0   \n",
      "3                     2                   1         0            0   \n",
      "4                     2                   1         1           83   \n",
      "\n",
      "   QT_VG_TOTAL_DIURNO  QT_VG_TOTAL_NOTURNO  QT_VG_TOTAL_EAD  QT_VG_NOVA  \\\n",
      "0                   0                    0                0           0   \n",
      "1                   0                    0                0           0   \n",
      "2                   0                    0                0           0   \n",
      "3                   0                    0                0           0   \n",
      "4                   0                    0               83          83   \n",
      "\n",
      "   QT_VG_PROC_SELETIVO  QT_VG_REMANESC  QT_VG_PROG_ESPECIAL  \\\n",
      "0                    0               0                    0   \n",
      "1                    0               0                    0   \n",
      "2                    0               0                    0   \n",
      "3                    0               0                    0   \n",
      "4                    0               0                    0   \n",
      "\n",
      "   QT_INSCRITO_TOTAL  QT_INSCRITO_TOTAL_DIURNO  QT_INSCRITO_TOTAL_NOTURNO  \\\n",
      "0                  0                         0                          0   \n",
      "1                  0                         0                          0   \n",
      "2                  0                         0                          0   \n",
      "3                  0                         0                          0   \n",
      "4                 83                         0                          0   \n",
      "\n",
      "   QT_INSCRITO_TOTAL_EAD  QT_INSC_VG_NOVA  QT_INSC_PROC_SELETIVO  \\\n",
      "0                      0                0                      0   \n",
      "1                      0                0                      0   \n",
      "2                      0                0                      0   \n",
      "3                      0                0                      0   \n",
      "4                     83               83                      0   \n",
      "\n",
      "   QT_INSC_VG_REMANESC  QT_INSC_VG_PROG_ESPECIAL  QT_ING  QT_ING_FEM  \\\n",
      "0                    0                         0      13           4   \n",
      "1                    0                         0       3           3   \n",
      "2                    0                         0       0           0   \n",
      "3                    0                         0       0           0   \n",
      "4                    0                         0       0           0   \n",
      "\n",
      "   QT_ING_MASC  QT_ING_DIURNO  QT_ING_NOTURNO  QT_ING_VG_NOVA  \\\n",
      "0            9              0               0              13   \n",
      "1            0              0               0               3   \n",
      "2            0              0               0               0   \n",
      "3            0              0               0               0   \n",
      "4            0              0               0               0   \n",
      "\n",
      "   QT_ING_VESTIBULAR  QT_ING_ENEM  QT_ING_AVALIACAO_SERIADA  \\\n",
      "0                 13            0                         0   \n",
      "1                  0            0                         0   \n",
      "2                  0            0                         0   \n",
      "3                  0            0                         0   \n",
      "4                  0            0                         0   \n",
      "\n",
      "   QT_ING_SELECAO_SIMPLIFICA  QT_ING_EGR  QT_ING_OUTRO_TIPO_SELECAO  \\\n",
      "0                         13           0                          0   \n",
      "1                          3           0                          0   \n",
      "2                          0           0                          0   \n",
      "3                          0           0                          0   \n",
      "4                          0           0                          0   \n",
      "\n",
      "   QT_ING_PROC_SELETIVO  QT_ING_VG_REMANESC  QT_ING_VG_PROG_ESPECIAL  \\\n",
      "0                     0                   0                        0   \n",
      "1                     0                   0                        0   \n",
      "2                     0                   0                        0   \n",
      "3                     0                   0                        0   \n",
      "4                     0                   0                        0   \n",
      "\n",
      "   QT_ING_OUTRA_FORMA  QT_ING_0_17  QT_ING_18_24  QT_ING_25_29  QT_ING_30_34  \\\n",
      "0                   0            0             0             3             2   \n",
      "1                   0            0             0             1             2   \n",
      "2                   0            0             0             0             0   \n",
      "3                   0            0             0             0             0   \n",
      "4                   0            0             0             0             0   \n",
      "\n",
      "   QT_ING_35_39  QT_ING_40_49  QT_ING_50_59  QT_ING_60_MAIS  QT_ING_BRANCA  \\\n",
      "0             2             5             1               0              5   \n",
      "1             0             0             0               0              3   \n",
      "2             0             0             0               0              0   \n",
      "3             0             0             0               0              0   \n",
      "4             0             0             0               0              0   \n",
      "\n",
      "   QT_ING_PRETA  QT_ING_PARDA  QT_ING_AMARELA  QT_ING_INDIGENA  QT_ING_CORND  \\\n",
      "0             0             1               3                0             4   \n",
      "1             0             0               0                0             0   \n",
      "2             0             0               0                0             0   \n",
      "3             0             0               0                0             0   \n",
      "4             0             0               0                0             0   \n",
      "\n",
      "   QT_MAT  QT_MAT_FEM  QT_MAT_MASC  QT_MAT_DIURNO  QT_MAT_NOTURNO  \\\n",
      "0      13           4            9              0               0   \n",
      "1       3           3            0              0               0   \n",
      "2       0           0            0              0               0   \n",
      "3       0           0            0              0               0   \n",
      "4       0           0            0              0               0   \n",
      "\n",
      "   QT_MAT_0_17  QT_MAT_18_24  QT_MAT_25_29  QT_MAT_30_34  QT_MAT_35_39  \\\n",
      "0            0             2             2             2             2   \n",
      "1            0             0             1             2             0   \n",
      "2            0             0             0             0             0   \n",
      "3            0             0             0             0             0   \n",
      "4            0             0             0             0             0   \n",
      "\n",
      "   QT_MAT_40_49  QT_MAT_50_59  QT_MAT_60_MAIS  QT_MAT_BRANCA  QT_MAT_PRETA  \\\n",
      "0             4             1               0              3             0   \n",
      "1             0             0               0              3             0   \n",
      "2             0             0               0              0             0   \n",
      "3             0             0               0              0             0   \n",
      "4             0             0               0              0             0   \n",
      "\n",
      "   QT_MAT_PARDA  QT_MAT_AMARELA  QT_MAT_INDIGENA  QT_MAT_CORND  QT_CONC  \\\n",
      "0             2               4                0             4        0   \n",
      "1             0               0                0             0        0   \n",
      "2             0               0                0             0        0   \n",
      "3             0               0                0             0        0   \n",
      "4             0               0                0             0        0   \n",
      "\n",
      "   QT_CONC_FEM  QT_CONC_MASC  QT_CONC_DIURNO  QT_CONC_NOTURNO  QT_CONC_0_17  \\\n",
      "0            0             0               0                0             0   \n",
      "1            0             0               0                0             0   \n",
      "2            0             0               0                0             0   \n",
      "3            0             0               0                0             0   \n",
      "4            0             0               0                0             0   \n",
      "\n",
      "   QT_CONC_18_24  QT_CONC_25_29  QT_CONC_30_34  QT_CONC_35_39  QT_CONC_40_49  \\\n",
      "0              0              0              0              0              0   \n",
      "1              0              0              0              0              0   \n",
      "2              0              0              0              0              0   \n",
      "3              0              0              0              0              0   \n",
      "4              0              0              0              0              0   \n",
      "\n",
      "   QT_CONC_50_59  QT_CONC_60_MAIS  QT_CONC_BRANCA  QT_CONC_PRETA  \\\n",
      "0              0                0               0              0   \n",
      "1              0                0               0              0   \n",
      "2              0                0               0              0   \n",
      "3              0                0               0              0   \n",
      "4              0                0               0              0   \n",
      "\n",
      "   QT_CONC_PARDA  QT_CONC_AMARELA  QT_CONC_INDIGENA  QT_CONC_CORND  \\\n",
      "0              0                0                 0              0   \n",
      "1              0                0                 0              0   \n",
      "2              0                0                 0              0   \n",
      "3              0                0                 0              0   \n",
      "4              0                0                 0              0   \n",
      "\n",
      "   QT_ING_NACBRAS  QT_ING_NACESTRANG  QT_MAT_NACBRAS  QT_MAT_NACESTRANG  \\\n",
      "0              12                  1              13                  0   \n",
      "1               3                  0               3                  0   \n",
      "2               0                  0               0                  0   \n",
      "3               0                  0               0                  0   \n",
      "4               0                  0               0                  0   \n",
      "\n",
      "   QT_CONC_NACBRAS  QT_CONC_NACESTRANG  QT_ALUNO_DEFICIENTE  \\\n",
      "0                0                   0                    0   \n",
      "1                0                   0                    0   \n",
      "2                0                   0                    0   \n",
      "3                0                   0                    0   \n",
      "4                0                   0                    0   \n",
      "\n",
      "   QT_ING_DEFICIENTE  QT_MAT_DEFICIENTE  QT_CONC_DEFICIENTE  QT_ING_FINANC  \\\n",
      "0                  0                  0                   0              0   \n",
      "1                  0                  0                   0              0   \n",
      "2                  0                  0                   0              0   \n",
      "3                  0                  0                   0              0   \n",
      "4                  0                  0                   0              0   \n",
      "\n",
      "   QT_ING_FINANC_REEMB  QT_ING_FIES  QT_ING_RPFIES  \\\n",
      "0                    0            0              0   \n",
      "1                    0            0              0   \n",
      "2                    0            0              0   \n",
      "3                    0            0              0   \n",
      "4                    0            0              0   \n",
      "\n",
      "   QT_ING_FINANC_REEMB_OUTROS  QT_ING_FINANC_NREEMB  QT_ING_PROUNII  \\\n",
      "0                           0                     0               0   \n",
      "1                           0                     0               0   \n",
      "2                           0                     0               0   \n",
      "3                           0                     0               0   \n",
      "4                           0                     0               0   \n",
      "\n",
      "   QT_ING_PROUNIP  QT_ING_NRPFIES  QT_ING_FINANC_NREEMB_OUTROS  QT_MAT_FINANC  \\\n",
      "0               0               0                            0              0   \n",
      "1               0               0                            0              0   \n",
      "2               0               0                            0              0   \n",
      "3               0               0                            0              0   \n",
      "4               0               0                            0              0   \n",
      "\n",
      "   QT_MAT_FINANC_REEMB  QT_MAT_FIES  QT_MAT_RPFIES  \\\n",
      "0                    0            0              0   \n",
      "1                    0            0              0   \n",
      "2                    0            0              0   \n",
      "3                    0            0              0   \n",
      "4                    0            0              0   \n",
      "\n",
      "   QT_MAT_FINANC_REEMB_OUTROS  QT_MAT_FINANC_NREEMB  QT_MAT_PROUNII  \\\n",
      "0                           0                     0               0   \n",
      "1                           0                     0               0   \n",
      "2                           0                     0               0   \n",
      "3                           0                     0               0   \n",
      "4                           0                     0               0   \n",
      "\n",
      "   QT_MAT_PROUNIP  QT_MAT_NRPFIES  QT_MAT_FINANC_NREEMB_OUTROS  \\\n",
      "0               0               0                            0   \n",
      "1               0               0                            0   \n",
      "2               0               0                            0   \n",
      "3               0               0                            0   \n",
      "4               0               0                            0   \n",
      "\n",
      "   QT_CONC_FINANC  QT_CONC_FINANC_REEMB  QT_CONC_FIES  QT_CONC_RPFIES  \\\n",
      "0               0                     0             0               0   \n",
      "1               0                     0             0               0   \n",
      "2               0                     0             0               0   \n",
      "3               0                     0             0               0   \n",
      "4               0                     0             0               0   \n",
      "\n",
      "   QT_CONC_FINANC_REEMB_OUTROS  QT_CONC_FINANC_NREEMB  QT_CONC_PROUNII  \\\n",
      "0                            0                      0                0   \n",
      "1                            0                      0                0   \n",
      "2                            0                      0                0   \n",
      "3                            0                      0                0   \n",
      "4                            0                      0                0   \n",
      "\n",
      "   QT_CONC_PROUNIP  QT_CONC_NRPFIES  QT_CONC_FINANC_NREEMB_OUTROS  \\\n",
      "0                0                0                             0   \n",
      "1                0                0                             0   \n",
      "2                0                0                             0   \n",
      "3                0                0                             0   \n",
      "4                0                0                             0   \n",
      "\n",
      "   QT_ING_RESERVA_VAGA  QT_ING_RVREDEPUBLICA  QT_ING_RVETNICO  QT_ING_RVPDEF  \\\n",
      "0                    0                     0                0              0   \n",
      "1                    0                     0                0              0   \n",
      "2                    0                     0                0              0   \n",
      "3                    0                     0                0              0   \n",
      "4                    0                     0                0              0   \n",
      "\n",
      "   QT_ING_RVSOCIAL_RF  QT_ING_RVOUTROS  QT_MAT_RESERVA_VAGA  \\\n",
      "0                   0                0                    0   \n",
      "1                   0                0                    0   \n",
      "2                   0                0                    0   \n",
      "3                   0                0                    0   \n",
      "4                   0                0                    0   \n",
      "\n",
      "   QT_MAT_RVREDEPUBLICA  QT_MAT_RVETNICO  QT_MAT_RVPDEF  QT_MAT_RVSOCIAL_RF  \\\n",
      "0                     0                0              0                   0   \n",
      "1                     0                0              0                   0   \n",
      "2                     0                0              0                   0   \n",
      "3                     0                0              0                   0   \n",
      "4                     0                0              0                   0   \n",
      "\n",
      "   QT_MAT_RVOUTROS  QT_CONC_RESERVA_VAGA  QT_CONC_RVREDEPUBLICA  \\\n",
      "0                0                     0                      0   \n",
      "1                0                     0                      0   \n",
      "2                0                     0                      0   \n",
      "3                0                     0                      0   \n",
      "4                0                     0                      0   \n",
      "\n",
      "   QT_CONC_RVETNICO  QT_CONC_RVPDEF  QT_CONC_RVSOCIAL_RF  QT_CONC_RVOUTROS  \\\n",
      "0                 0               0                    0                 0   \n",
      "1                 0               0                    0                 0   \n",
      "2                 0               0                    0                 0   \n",
      "3                 0               0                    0                 0   \n",
      "4                 0               0                    0                 0   \n",
      "\n",
      "   QT_SIT_TRANCADA  QT_SIT_DESVINCULADO  QT_SIT_TRANSFERIDO  QT_SIT_FALECIDO  \\\n",
      "0                0                    7                   1                0   \n",
      "1                0                    0                   0                0   \n",
      "2                0                    0                   0                0   \n",
      "3                0                    0                   0                0   \n",
      "4                0                    0                   0                0   \n",
      "\n",
      "   QT_ING_PROCESCPUBLICA  QT_ING_PROCESCPRIVADA  QT_ING_PROCNAOINFORMADA  \\\n",
      "0                     13                      0                        0   \n",
      "1                      2                      1                        0   \n",
      "2                      0                      0                        0   \n",
      "3                      0                      0                        0   \n",
      "4                      0                      0                        0   \n",
      "\n",
      "   QT_MAT_PROCESCPUBLICA  QT_MAT_PROCESCPRIVADA  QT_MAT_PROCNAOINFORMADA  \\\n",
      "0                     13                      0                        0   \n",
      "1                      2                      1                        0   \n",
      "2                      0                      0                        0   \n",
      "3                      0                      0                        0   \n",
      "4                      0                      0                        0   \n",
      "\n",
      "   QT_CONC_PROCESCPUBLICA  QT_CONC_PROCESCPRIVADA  QT_CONC_PROCNAOINFORMADA  \\\n",
      "0                       0                       0                         0   \n",
      "1                       0                       0                         0   \n",
      "2                       0                       0                         0   \n",
      "3                       0                       0                         0   \n",
      "4                       0                       0                         0   \n",
      "\n",
      "   QT_PARFOR  QT_ING_PARFOR  QT_MAT_PARFOR  QT_CONC_PARFOR  QT_APOIO_SOCIAL  \\\n",
      "0          0              0              0               0                0   \n",
      "1          0              0              0               0                0   \n",
      "2          0              0              0               0                0   \n",
      "3          0              0              0               0                0   \n",
      "4          0              0              0               0                0   \n",
      "\n",
      "   QT_ING_APOIO_SOCIAL  QT_MAT_APOIO_SOCIAL  QT_CONC_APOIO_SOCIAL  \\\n",
      "0                    0                    0                     0   \n",
      "1                    0                    0                     0   \n",
      "2                    0                    0                     0   \n",
      "3                    0                    0                     0   \n",
      "4                    0                    0                     0   \n",
      "\n",
      "   QT_ATIV_EXTRACURRICULAR  QT_ING_ATIV_EXTRACURRICULAR  \\\n",
      "0                        0                            0   \n",
      "1                        2                            2   \n",
      "2                        0                            0   \n",
      "3                        0                            0   \n",
      "4                        0                            0   \n",
      "\n",
      "   QT_MAT_ATIV_EXTRACURRICULAR  QT_CONC_ATIV_EXTRACURRICULAR  \\\n",
      "0                            0                             0   \n",
      "1                            2                             0   \n",
      "2                            0                             0   \n",
      "3                            0                             0   \n",
      "4                            0                             0   \n",
      "\n",
      "   QT_MOB_ACADEMICA  QT_ING_MOB_ACADEMICA  QT_MAT_MOB_ACADEMICA  \\\n",
      "0                 0                     0                     0   \n",
      "1                 0                     0                     0   \n",
      "2                 0                     0                     0   \n",
      "3                 0                     0                     0   \n",
      "4                 0                     0                     0   \n",
      "\n",
      "   QT_CONC_MOB_ACADEMICA  \n",
      "0                      0  \n",
      "1                      0  \n",
      "2                      0  \n",
      "3                      0  \n",
      "4                      0  \n",
      "   NU_ANO_CENSO NO_REGIAO_IES  CO_REGIAO_IES         NO_UF_IES SG_UF_IES  \\\n",
      "0          2023  Centro-Oeste              5       Mato Grosso        MT   \n",
      "1          2023  Centro-Oeste              5  Distrito Federal        DF   \n",
      "2          2023      Nordeste              2           Sergipe        SE   \n",
      "3          2023         Norte              1          Amazonas        AM   \n",
      "4          2023      Nordeste              2             Piauí        PI   \n",
      "\n",
      "   CO_UF_IES NO_MUNICIPIO_IES  CO_MUNICIPIO_IES  IN_CAPITAL_IES  \\\n",
      "0         51           Cuiabá           5103403               1   \n",
      "1         53         Brasília           5300108               1   \n",
      "2         28    São Cristóvão           2806701               0   \n",
      "3         13           Manaus           1302603               1   \n",
      "4         22         Teresina           2211001               1   \n",
      "\n",
      "          NO_MESORREGIAO_IES  CO_MESORREGIAO_IES NO_MICRORREGIAO_IES  \\\n",
      "0  Centro-Sul Mato-grossense                   4              Cuiabá   \n",
      "1           Distrito Federal                   1            Brasília   \n",
      "2            Leste Sergipano                   3             Aracaju   \n",
      "3          Centro Amazonense                   3              Manaus   \n",
      "4     Centro-Norte Piauiense                   2            Teresina   \n",
      "\n",
      "   CO_MICRORREGIAO_IES  TP_ORGANIZACAO_ACADEMICA  TP_REDE  \\\n",
      "0                   17                         1        1   \n",
      "1                    1                         1        1   \n",
      "2                   11                         1        1   \n",
      "3                    7                         1        1   \n",
      "4                    3                         1        1   \n",
      "\n",
      "   TP_CATEGORIA_ADMINISTRATIVA  IN_COMUNITARIA  IN_CONFESSIONAL  \\\n",
      "0                            1               0                0   \n",
      "1                            1               0                0   \n",
      "2                            1               0                0   \n",
      "3                            1               0                0   \n",
      "4                            1               0                0   \n",
      "\n",
      "                                 NO_MANTENEDORA  CO_MANTENEDORA  CO_IES  \\\n",
      "0  FUNDACAO UNIVERSIDADE FEDERAL DE MATO GROSSO               1       1   \n",
      "1             FUNDACAO UNIVERSIDADE DE BRASILIA               2       2   \n",
      "2      FUNDACAO UNIVERSIDADE FEDERAL DE SERGIPE               3       3   \n",
      "3             FUNDACAO UNIVERSIDADE DO AMAZONAS               4       4   \n",
      "4        FUNDACAO UNIVERSIDADE FEDERAL DO PIAUI           14054       5   \n",
      "\n",
      "                                NO_IES SG_IES  \\\n",
      "0  UNIVERSIDADE FEDERAL DE MATO GROSSO   UFMT   \n",
      "1             UNIVERSIDADE DE BRASÍLIA    UNB   \n",
      "2      UNIVERSIDADE FEDERAL DE SERGIPE    UFS   \n",
      "3     UNIVERSIDADE FEDERAL DO AMAZONAS   UFAM   \n",
      "4        UNIVERSIDADE FEDERAL DO PIAUÍ   UFPI   \n",
      "\n",
      "                                  DS_ENDERECO_IES DS_NUMERO_ENDERECO_IES  \\\n",
      "0                Avenida Fernando Correa da Costa                   2367   \n",
      "1              Campus Universitário Darcy Ribeiro                    s/n   \n",
      "2                         Avenida Marechal Rondon                    s/n   \n",
      "3                              Av. Rodrigo Otávio                   6200   \n",
      "4  Campus Universitário Ministro Petrônio Portela                    s/n   \n",
      "\n",
      "  DS_COMPLEMENTO_ENDERECO_IES     NO_BAIRRO_IES  NU_CEP_IES  QT_TEC_TOTAL  \\\n",
      "0        Cidade Universitária     Boa Esperança  78060900.0          1335   \n",
      "1                           -         Asa Norte  70910900.0          2906   \n",
      "2                           -  Jardim Rosa Elze  49100000.0          1769   \n",
      "3                Unidade Sede        Coroado II  69077000.0          1931   \n",
      "4                     SG - 07            Ininga  64049550.0          2243   \n",
      "\n",
      "   QT_TEC_FUNDAMENTAL_INCOMP_FEM  QT_TEC_FUNDAMENTAL_INCOMP_MASC  \\\n",
      "0                              2                              15   \n",
      "1                              0                               0   \n",
      "2                              0                              23   \n",
      "3                              9                              54   \n",
      "4                            128                             223   \n",
      "\n",
      "   QT_TEC_FUNDAMENTAL_COMP_FEM  QT_TEC_FUNDAMENTAL_COMP_MASC  \\\n",
      "0                            1                            11   \n",
      "1                            2                            24   \n",
      "2                            8                            12   \n",
      "3                            5                            40   \n",
      "4                           58                            82   \n",
      "\n",
      "   QT_TEC_MEDIO_FEM  QT_TEC_MEDIO_MASC  QT_TEC_SUPERIOR_FEM  \\\n",
      "0                27                 59                   87   \n",
      "1               100                118                  177   \n",
      "2               211                137                  269   \n",
      "3               116                201                  225   \n",
      "4               340                508                   51   \n",
      "\n",
      "   QT_TEC_SUPERIOR_MASC  QT_TEC_ESPECIALIZACAO_FEM  \\\n",
      "0                   106                        331   \n",
      "1                   225                        746   \n",
      "2                   188                        275   \n",
      "3                   258                        389   \n",
      "4                    71                        258   \n",
      "\n",
      "   QT_TEC_ESPECIALIZACAO_MASC  QT_TEC_MESTRADO_FEM  QT_TEC_MESTRADO_MASC  \\\n",
      "0                         327                  172                   107   \n",
      "1                         704                  386                   265   \n",
      "2                         187                  219                   137   \n",
      "3                         266                  169                   134   \n",
      "4                         211                  135                    99   \n",
      "\n",
      "   QT_TEC_DOUTORADO_FEM  QT_TEC_DOUTORADO_MASC  IN_ACESSO_PORTAL_CAPES  \\\n",
      "0                    55                     35                       1   \n",
      "1                    93                     66                       1   \n",
      "2                    65                     38                       1   \n",
      "3                    35                     30                       1   \n",
      "4                    44                     35                       1   \n",
      "\n",
      "   IN_ACESSO_OUTRAS_BASES  IN_ASSINA_OUTRA_BASE  IN_REPOSITORIO_INSTITUCIONAL  \\\n",
      "0                       0                     1                             1   \n",
      "1                       0                     1                             1   \n",
      "2                       0                     1                             1   \n",
      "3                       0                     1                             1   \n",
      "4                       0                     1                             1   \n",
      "\n",
      "   IN_BUSCA_INTEGRADA  IN_SERVICO_INTERNET  IN_PARTICIPA_REDE_SOCIAL  \\\n",
      "0                   1                    1                         1   \n",
      "1                   1                    1                         1   \n",
      "2                   1                    1                         1   \n",
      "3                   0                    1                         1   \n",
      "4                   1                    1                         1   \n",
      "\n",
      "   IN_CATALOGO_ONLINE  QT_PERIODICO_ELETRONICO  QT_LIVRO_ELETRONICO  \\\n",
      "0                   1                       50                   50   \n",
      "1                   1                      441                13095   \n",
      "2                   1                    40939               320055   \n",
      "3                   1                       41                 6272   \n",
      "4                   1                        0                    0   \n",
      "\n",
      "   QT_DOC_TOTAL  QT_DOC_EXE  QT_DOC_EX_FEMI  QT_DOC_EX_MASC  \\\n",
      "0          1742        1588             764             824   \n",
      "1          3120        2801            1288            1513   \n",
      "2          1820        1768             846             922   \n",
      "3          2051        2048             934            1114   \n",
      "4          1693        1469             710             759   \n",
      "\n",
      "   QT_DOC_EX_SEM_GRAD  QT_DOC_EX_GRAD  QT_DOC_EX_ESP  QT_DOC_EX_MEST  \\\n",
      "0                   0              83             51             191   \n",
      "1                   0               9             18             224   \n",
      "2                   0             100              2             210   \n",
      "3                   0              94            200             537   \n",
      "4                   2               5             70             250   \n",
      "\n",
      "   QT_DOC_EX_DOUT  QT_DOC_EX_INT  QT_DOC_EX_INT_DE  QT_DOC_EX_INT_SEM_DE  \\\n",
      "0            1263           1537              1276                   261   \n",
      "1            2550           2647              2323                   324   \n",
      "2            1456           1652              1441                   211   \n",
      "3            1217           1868              1466                   402   \n",
      "4            1142           1374              1174                   200   \n",
      "\n",
      "   QT_DOC_EX_PARC  QT_DOC_EX_HOR  QT_DOC_EX_0_29  QT_DOC_EX_30_34  \\\n",
      "0              51              0              44              144   \n",
      "1             154              0              44              146   \n",
      "2             115              1              36              127   \n",
      "3             180              0             112              217   \n",
      "4              95              0              22              134   \n",
      "\n",
      "   QT_DOC_EX_35_39  QT_DOC_EX_40_44  QT_DOC_EX_45_49  QT_DOC_EX_50_54  \\\n",
      "0              298              318              276              197   \n",
      "1              335              500              482              369   \n",
      "2              258              359              331              250   \n",
      "3              328              344              295              248   \n",
      "4              231              304              228              144   \n",
      "\n",
      "   QT_DOC_EX_55_59  QT_DOC_EX_60_MAIS  QT_DOC_EX_BRANCA  QT_DOC_EX_PRETA  \\\n",
      "0              136                175              1003               85   \n",
      "1              377                548              1958              109   \n",
      "2              202                205               242               36   \n",
      "3              249                255               167               22   \n",
      "4              163                243               164               41   \n",
      "\n",
      "   QT_DOC_EX_PARDA  QT_DOC_EX_AMARELA  QT_DOC_EX_INDIGENA  QT_DOC_EX_COR_ND  \\\n",
      "0              454                 38                   6                 2   \n",
      "1              625                 66                  11                32   \n",
      "2              295                 11                   1              1183   \n",
      "3             1684                  6                   2               167   \n",
      "4              257                  3                   1              1003   \n",
      "\n",
      "   QT_DOC_EX_BRA  QT_DOC_EX_EST  QT_DOC_EX_COM_DEFICIENCIA  \n",
      "0           1559             29                         12  \n",
      "1           2669            132                         10  \n",
      "2           1739             29                          5  \n",
      "3           2048              0                          6  \n",
      "4           1469              0                          0  \n"
     ]
    }
   ],
   "source": [
    "import sys\n",
    "import os\n",
    "\n",
    "sys.path.append(os.path.abspath(\"../scripts\"))\n",
    "\n",
    "from limpeza import carregar_e_filtrar\n",
    "\n",
    "base_path = '../data/'  \n",
    "\n",
    "df_cursos, df_ies = carregar_e_filtrar(base_path)\n",
    "\n",
    "print(df_cursos.head())\n",
    "print(df_ies.head())\n"
   ]
  },
  {
   "cell_type": "markdown",
   "id": "a8c48a8d",
   "metadata": {},
   "source": [
    "## Cursos por UF"
   ]
  },
  {
   "cell_type": "code",
   "execution_count": 50,
   "id": "8843be32",
   "metadata": {},
   "outputs": [
    {
     "data": {
      "image/png": "[encoded data removed]",
      "text/plain": [
       "<Figure size 1200x600 with 1 Axes>"
      ]
     },
     "metadata": {},
     "output_type": "display_data"
    }
   ],
   "source": [
    "plt.figure(figsize=(12,6))\n",
    "sns.countplot(data=df_cursos, x='SG_UF', order=df_cursos['SG_UF'].value_counts().index)\n",
    "plt.title('Distribuição de Cursos por UF')\n",
    "plt.xticks(rotation=45)\n",
    "plt.show()"
   ]
  },
  {
   "cell_type": "markdown",
   "id": "a367efe1",
   "metadata": {},
   "source": [
    "## Cursos por Categoria Administrativa"
   ]
  },
  {
   "cell_type": "code",
   "execution_count": 51,
   "id": "844c69d7",
   "metadata": {},
   "outputs": [
    {
     "data": {
      "image/png": "[encoded data removed]",
      "text/plain": [
       "<Figure size 1000x600 with 1 Axes>"
      ]
     },
     "metadata": {},
     "output_type": "display_data"
    }
   ],
   "source": [
    "plt.figure(figsize=(10, 6))\n",
    "sns.countplot(data=df_cursos, x='TP_CATEGORIA_ADMINISTRATIVA', order=df_cursos['TP_CATEGORIA_ADMINISTRATIVA'].value_counts().index)\n",
    "plt.title('Cursos por Categoria Administrativa')\n",
    "plt.show()\n"
   ]
  },
  {
   "cell_type": "markdown",
   "id": "efe175a8",
   "metadata": {},
   "source": [
    "## Cursos por Organização Acadêmica"
   ]
  },
  {
   "cell_type": "code",
   "execution_count": 52,
   "id": "bffed872",
   "metadata": {},
   "outputs": [
    {
     "data": {
      "image/png": "[encoded data removed]",
      "text/plain": [
       "<Figure size 1000x600 with 1 Axes>"
      ]
     },
     "metadata": {},
     "output_type": "display_data"
    }
   ],
   "source": [
    "plt.figure(figsize=(10, 6))\n",
    "sns.countplot(\n",
    "    data=df_cursos,\n",
    "    x='TP_ORGANIZACAO_ACADEMICA',\n",
    "    order=df_cursos['TP_ORGANIZACAO_ACADEMICA'].value_counts().index\n",
    ")\n",
    "plt.title('Cursos por Organização Acadêmica')\n",
    "plt.show()\n"
   ]
  },
  {
   "cell_type": "markdown",
   "id": "b0bea05a",
   "metadata": {},
   "source": [
    "## Heatmap: Cursos por UF vs Organização Acadêmica"
   ]
  },
  {
   "cell_type": "code",
   "execution_count": 53,
   "id": "3707347e",
   "metadata": {},
   "outputs": [
    {
     "data": {
      "image/png": "[encoded data removed]",
      "text/plain": [
       "<Figure size 1500x1000 with 2 Axes>"
      ]
     },
     "metadata": {},
     "output_type": "display_data"
    }
   ],
   "source": [
    "pivot = df_cursos.pivot_table(\n",
    "    index='SG_UF',\n",
    "    columns='TP_ORGANIZACAO_ACADEMICA',\n",
    "    values='NO_CURSO',\n",
    "    aggfunc='count',\n",
    "    fill_value=0\n",
    ")\n",
    "\n",
    "plt.figure(figsize=(15, 10))\n",
    "sns.heatmap(pivot, annot=True, fmt='d', cmap='YlGnBu')\n",
    "plt.title('Heatmap: Cursos por UF vs Organização Acadêmica')\n",
    "plt.show()"
   ]
  },
  {
   "cell_type": "markdown",
   "id": "d1f548f1",
   "metadata": {},
   "source": [
    "## Consulta SQL Relacional"
   ]
  },
  {
   "cell_type": "code",
   "execution_count": 54,
   "id": "3f5f3d30",
   "metadata": {},
   "outputs": [
    {
     "name": "stdout",
     "output_type": "stream",
     "text": [
      "   SG_UF  qtd_cursos Sigla UF Destino  qtd_bolsistas\n",
      "25    SP      141697               SP          21056\n",
      "10    MG       74705               MG           9433\n",
      "17    PR       56970               PR           5585\n",
      "22    RS       52567               RS           8714\n",
      "18    RJ       40029               RJ          24055\n",
      "4     BA       38356               BA           3231\n",
      "23    SC       37473               SC           3713\n",
      "13    PA       24727               PA           2347\n",
      "8     GO       23030               GO           1938\n",
      "5     CE       21904               CE           2692\n",
      "15    PE       20234               PE           4062\n",
      "12    MT       17022               MT           1177\n",
      "9     MA       15554               MA            748\n",
      "7     ES       14427               ES           1157\n",
      "11    MS       12926               MS           1212\n",
      "14    PB        9532               PB           2579\n",
      "2     AM        7993               AM           1080\n",
      "16    PI        7810               PI            749\n",
      "19    RN        7376               RN           2087\n",
      "20    RO        7312               RO            307\n",
      "1     AL        6402               AL            894\n",
      "24    SE        5307               SE            956\n",
      "26    TO        5264               TO            376\n",
      "6     DF        3751               DF          14069\n",
      "0     AC        3581               AC            166\n",
      "3     AP        2552               AP            224\n",
      "21    RR        2070               RR            202\n"
     ]
    }
   ],
   "source": [
    "\n",
    "\n",
    "file_cnpq = '../data/Relatorio_de_dados_abertos_CNPq (1º SEM 2023)(snICJ).xlsx'\n",
    "df_bolsistas = pd.read_excel(file_cnpq, skiprows=5)\n",
    "\n",
    "\n",
    "df_cursos_uf = df_cursos.groupby('SG_UF').size().reset_index(name='qtd_cursos')\n",
    "\n",
    "\n",
    "df_bolsistas_uf = df_bolsistas.groupby('Sigla UF Destino').size().reset_index(name='qtd_bolsistas')\n",
    "\n",
    "df_sql = pd.merge(df_cursos_uf, df_bolsistas_uf, left_on='SG_UF', right_on='Sigla UF Destino', how='left')\n",
    "df_sql['qtd_bolsistas'] = df_sql['qtd_bolsistas'].fillna(0).astype(int)\n",
    "df_sql = df_sql.sort_values('qtd_cursos', ascending=False)\n",
    "\n",
    "print(df_sql)\n",
    "\n"
   ]
  },
  {
   "cell_type": "markdown",
   "id": "82052f07",
   "metadata": {},
   "source": [
    "## Visualização da Consulta SQL"
   ]
  },
  {
   "cell_type": "code",
   "execution_count": 55,
   "id": "46d59bc2",
   "metadata": {},
   "outputs": [
    {
     "data": {
      "application/vnd.plotly.v1+json": {
       "config": {
        "plotlyServerURL": "https://plot.ly"
       },
       "data": [
        {
         "alignmentgroup": "True",
         "hovertemplate": "Indicador=qtd_cursos<br>SG_UF=%{x}<br>Quantidade=%{y}<extra></extra>",
         "legendgroup": "qtd_cursos",
         "marker": {
          "color": "#636efa",
          "pattern": {
           "shape": ""
          }
         },
         "name": "qtd_cursos",
         "offsetgroup": "qtd_cursos",
         "orientation": "v",
         "showlegend": true,
         "textposition": "auto",
         "texttemplate": "%{y}",
         "type": "bar",
         "x": [
          "SP",
          "MG",
          "PR",
          "RS",
          "RJ",
          "BA",
          "SC",
          "PA",
          "GO",
          "CE",
          "PE",
          "MT",
          "MA",
          "ES",
          "MS",
          "PB",
          "AM",
          "PI",
          "RN",
          "RO",
          "AL",
          "SE",
          "TO",
          "DF",
          "AC",
          "AP",
          "RR"
         ],
         "xaxis": "x",
         "y": {
          "bdata": "gSkCANEjAQCK3gAAV80AAF2cAADUlQAAYZIAAJdgAAD2WQAAkFUAAApPAAB+QgAAwjwAAFs4AAB+MgAAPCUAADkfAACCHgAA0BwAAJAcAAACGQAAuxQAAJAUAACnDgAA/Q0AAPgJAAAWCAAA",
          "dtype": "i4"
         },
         "yaxis": "y"
        },
        {
         "alignmentgroup": "True",
         "hovertemplate": "Indicador=qtd_bolsistas<br>SG_UF=%{x}<br>Quantidade=%{y}<extra></extra>",
         "legendgroup": "qtd_bolsistas",
         "marker": {
          "color": "#EF553B",
          "pattern": {
           "shape": ""
          }
         },
         "name": "qtd_bolsistas",
         "offsetgroup": "qtd_bolsistas",
         "orientation": "v",
         "showlegend": true,
         "textposition": "auto",
         "texttemplate": "%{y}",
         "type": "bar",
         "x": [
          "SP",
          "MG",
          "PR",
          "RS",
          "RJ",
          "BA",
          "SC",
          "PA",
          "GO",
          "CE",
          "PE",
          "MT",
          "MA",
          "ES",
          "MS",
          "PB",
          "AM",
          "PI",
          "RN",
          "RO",
          "AL",
          "SE",
          "TO",
          "DF",
          "AC",
          "AP",
          "RR"
         ],
         "xaxis": "x",
         "y": {
          "bdata": "QFLZJNEVCiL3XZ8MgQ4rCZIHhAreD5kE7AKFBLwEEwo4BO0CJwgzAX4DvAN4AfU2pgDgAMoA",
          "dtype": "i2"
         },
         "yaxis": "y"
        }
       ],
       "layout": {
        "barmode": "group",
        "height": 500,
        "legend": {
         "title": {
          "text": "Indicador"
         },
         "tracegroupgap": 0
        },
        "template": {
         "data": {
          "bar": [
           {
            "error_x": {
             "color": "#2a3f5f"
            },
            "error_y": {
             "color": "#2a3f5f"
            },
            "marker": {
             "line": {
              "color": "#E5ECF6",
              "width": 0.5
             },
             "pattern": {
              "fillmode": "overlay",
              "size": 10,
              "solidity": 0.2
             }
            },
            "type": "bar"
           }
          ],
          "barpolar": [
           {
            "marker": {
             "line": {
              "color": "#E5ECF6",
              "width": 0.5
             },
             "pattern": {
              "fillmode": "overlay",
              "size": 10,
              "solidity": 0.2
             }
            },
            "type": "barpolar"
           }
          ],
          "carpet": [
           {
            "aaxis": {
             "endlinecolor": "#2a3f5f",
             "gridcolor": "white",
             "linecolor": "white",
             "minorgridcolor": "white",
             "startlinecolor": "#2a3f5f"
            },
            "baxis": {
             "endlinecolor": "#2a3f5f",
             "gridcolor": "white",
             "linecolor": "white",
             "minorgridcolor": "white",
             "startlinecolor": "#2a3f5f"
            },
            "type": "carpet"
           }
          ],
          "choropleth": [
           {
            "colorbar": {
             "outlinewidth": 0,
             "ticks": ""
            },
            "type": "choropleth"
           }
          ],
          "contour": [
           {
            "colorbar": {
             "outlinewidth": 0,
             "ticks": ""
            },
            "colorscale": [
             [
              0,
              "#0d0887"
             ],
             [
              0.1111111111111111,
              "#46039f"
             ],
             [
              0.2222222222222222,
              "#7201a8"
             ],
             [
              0.3333333333333333,
              "#9c179e"
             ],
             [
              0.4444444444444444,
              "#bd3786"
             ],
             [
              0.5555555555555556,
              "#d8576b"
             ],
             [
              0.6666666666666666,
              "#ed7953"
             ],
             [
              0.7777777777777778,
              "#fb9f3a"
             ],
             [
              0.8888888888888888,
              "#fdca26"
             ],
             [
              1,
              "#f0f921"
             ]
            ],
            "type": "contour"
           }
          ],
          "contourcarpet": [
           {
            "colorbar": {
             "outlinewidth": 0,
             "ticks": ""
            },
            "type": "contourcarpet"
           }
          ],
          "heatmap": [
           {
            "colorbar": {
             "outlinewidth": 0,
             "ticks": ""
            },
            "colorscale": [
             [
              0,
              "#0d0887"
             ],
             [
              0.1111111111111111,
              "#46039f"
             ],
             [
              0.2222222222222222,
              "#7201a8"
             ],
             [
              0.3333333333333333,
              "#9c179e"
             ],
             [
              0.4444444444444444,
              "#bd3786"
             ],
             [
              0.5555555555555556,
              "#d8576b"
             ],
             [
              0.6666666666666666,
              "#ed7953"
             ],
             [
              0.7777777777777778,
              "#fb9f3a"
             ],
             [
              0.8888888888888888,
              "#fdca26"
             ],
             [
              1,
              "#f0f921"
             ]
            ],
            "type": "heatmap"
           }
          ],
          "histogram": [
           {
            "marker": {
             "pattern": {
              "fillmode": "overlay",
              "size": 10,
              "solidity": 0.2
             }
            },
            "type": "histogram"
           }
          ],
          "histogram2d": [
           {
            "colorbar": {
             "outlinewidth": 0,
             "ticks": ""
            },
            "colorscale": [
             [
              0,
              "#0d0887"
             ],
             [
              0.1111111111111111,
              "#46039f"
             ],
             [
              0.2222222222222222,
              "#7201a8"
             ],
             [
              0.3333333333333333,
              "#9c179e"
             ],
             [
              0.4444444444444444,
              "#bd3786"
             ],
             [
              0.5555555555555556,
              "#d8576b"
             ],
             [
              0.6666666666666666,
              "#ed7953"
             ],
             [
              0.7777777777777778,
              "#fb9f3a"
             ],
             [
              0.8888888888888888,
              "#fdca26"
             ],
             [
              1,
              "#f0f921"
             ]
            ],
            "type": "histogram2d"
           }
          ],
          "histogram2dcontour": [
           {
            "colorbar": {
             "outlinewidth": 0,
             "ticks": ""
            },
            "colorscale": [
             [
              0,
              "#0d0887"
             ],
             [
              0.1111111111111111,
              "#46039f"
             ],
             [
              0.2222222222222222,
              "#7201a8"
             ],
             [
              0.3333333333333333,
              "#9c179e"
             ],
             [
              0.4444444444444444,
              "#bd3786"
             ],
             [
              0.5555555555555556,
              "#d8576b"
             ],
             [
              0.6666666666666666,
              "#ed7953"
             ],
             [
              0.7777777777777778,
              "#fb9f3a"
             ],
             [
              0.8888888888888888,
              "#fdca26"
             ],
             [
              1,
              "#f0f921"
             ]
            ],
            "type": "histogram2dcontour"
           }
          ],
          "mesh3d": [
           {
            "colorbar": {
             "outlinewidth": 0,
             "ticks": ""
            },
            "type": "mesh3d"
           }
          ],
          "parcoords": [
           {
            "line": {
             "colorbar": {
              "outlinewidth": 0,
              "ticks": ""
             }
            },
            "type": "parcoords"
           }
          ],
          "pie": [
           {
            "automargin": true,
            "type": "pie"
           }
          ],
          "scatter": [
           {
            "fillpattern": {
             "fillmode": "overlay",
             "size": 10,
             "solidity": 0.2
            },
            "type": "scatter"
           }
          ],
          "scatter3d": [
           {
            "line": {
             "colorbar": {
              "outlinewidth": 0,
              "ticks": ""
             }
            },
            "marker": {
             "colorbar": {
              "outlinewidth": 0,
              "ticks": ""
             }
            },
            "type": "scatter3d"
           }
          ],
          "scattercarpet": [
           {
            "marker": {
             "colorbar": {
              "outlinewidth": 0,
              "ticks": ""
             }
            },
            "type": "scattercarpet"
           }
          ],
          "scattergeo": [
           {
            "marker": {
             "colorbar": {
              "outlinewidth": 0,
              "ticks": ""
             }
            },
            "type": "scattergeo"
           }
          ],
          "scattergl": [
           {
            "marker": {
             "colorbar": {
              "outlinewidth": 0,
              "ticks": ""
             }
            },
            "type": "scattergl"
           }
          ],
          "scattermap": [
           {
            "marker": {
             "colorbar": {
              "outlinewidth": 0,
              "ticks": ""
             }
            },
            "type": "scattermap"
           }
          ],
          "scattermapbox": [
           {
            "marker": {
             "colorbar": {
              "outlinewidth": 0,
              "ticks": ""
             }
            },
            "type": "scattermapbox"
           }
          ],
          "scatterpolar": [
           {
            "marker": {
             "colorbar": {
              "outlinewidth": 0,
              "ticks": ""
             }
            },
            "type": "scatterpolar"
           }
          ],
          "scatterpolargl": [
           {
            "marker": {
             "colorbar": {
              "outlinewidth": 0,
              "ticks": ""
             }
            },
            "type": "scatterpolargl"
           }
          ],
          "scatterternary": [
           {
            "marker": {
             "colorbar": {
              "outlinewidth": 0,
              "ticks": ""
             }
            },
            "type": "scatterternary"
           }
          ],
          "surface": [
           {
            "colorbar": {
             "outlinewidth": 0,
             "ticks": ""
            },
            "colorscale": [
             [
              0,
              "#0d0887"
             ],
             [
              0.1111111111111111,
              "#46039f"
             ],
             [
              0.2222222222222222,
              "#7201a8"
             ],
             [
              0.3333333333333333,
              "#9c179e"
             ],
             [
              0.4444444444444444,
              "#bd3786"
             ],
             [
              0.5555555555555556,
              "#d8576b"
             ],
             [
              0.6666666666666666,
              "#ed7953"
             ],
             [
              0.7777777777777778,
              "#fb9f3a"
             ],
             [
              0.8888888888888888,
              "#fdca26"
             ],
             [
              1,
              "#f0f921"
             ]
            ],
            "type": "surface"
           }
          ],
          "table": [
           {
            "cells": {
             "fill": {
              "color": "#EBF0F8"
             },
             "line": {
              "color": "white"
             }
            },
            "header": {
             "fill": {
              "color": "#C8D4E3"
             },
             "line": {
              "color": "white"
             }
            },
            "type": "table"
           }
          ]
         },
         "layout": {
          "annotationdefaults": {
           "arrowcolor": "#2a3f5f",
           "arrowhead": 0,
           "arrowwidth": 1
          },
          "autotypenumbers": "strict",
          "coloraxis": {
           "colorbar": {
            "outlinewidth": 0,
            "ticks": ""
           }
          },
          "colorscale": {
           "diverging": [
            [
             0,
             "#8e0152"
            ],
            [
             0.1,
             "#c51b7d"
            ],
            [
             0.2,
             "#de77ae"
            ],
            [
             0.3,
             "#f1b6da"
            ],
            [
             0.4,
             "#fde0ef"
            ],
            [
             0.5,
             "#f7f7f7"
            ],
            [
             0.6,
             "#e6f5d0"
            ],
            [
             0.7,
             "#b8e186"
            ],
            [
             0.8,
             "#7fbc41"
            ],
            [
             0.9,
             "#4d9221"
            ],
            [
             1,
             "#276419"
            ]
           ],
           "sequential": [
            [
             0,
             "#0d0887"
            ],
            [
             0.1111111111111111,
             "#46039f"
            ],
            [
             0.2222222222222222,
             "#7201a8"
            ],
            [
             0.3333333333333333,
             "#9c179e"
            ],
            [
             0.4444444444444444,
             "#bd3786"
            ],
            [
             0.5555555555555556,
             "#d8576b"
            ],
            [
             0.6666666666666666,
             "#ed7953"
            ],
            [
             0.7777777777777778,
             "#fb9f3a"
            ],
            [
             0.8888888888888888,
             "#fdca26"
            ],
            [
             1,
             "#f0f921"
            ]
           ],
           "sequentialminus": [
            [
             0,
             "#0d0887"
            ],
            [
             0.1111111111111111,
             "#46039f"
            ],
            [
             0.2222222222222222,
             "#7201a8"
            ],
            [
             0.3333333333333333,
             "#9c179e"
            ],
            [
             0.4444444444444444,
             "#bd3786"
            ],
            [
             0.5555555555555556,
             "#d8576b"
            ],
            [
             0.6666666666666666,
             "#ed7953"
            ],
            [
             0.7777777777777778,
             "#fb9f3a"
            ],
            [
             0.8888888888888888,
             "#fdca26"
            ],
            [
             1,
             "#f0f921"
            ]
           ]
          },
          "colorway": [
           "#636efa",
           "#EF553B",
           "#00cc96",
           "#ab63fa",
           "#FFA15A",
           "#19d3f3",
           "#FF6692",
           "#B6E880",
           "#FF97FF",
           "#FECB52"
          ],
          "font": {
           "color": "#2a3f5f"
          },
          "geo": {
           "bgcolor": "white",
           "lakecolor": "white",
           "landcolor": "#E5ECF6",
           "showlakes": true,
           "showland": true,
           "subunitcolor": "white"
          },
          "hoverlabel": {
           "align": "left"
          },
          "hovermode": "closest",
          "mapbox": {
           "style": "light"
          },
          "paper_bgcolor": "white",
          "plot_bgcolor": "#E5ECF6",
          "polar": {
           "angularaxis": {
            "gridcolor": "white",
            "linecolor": "white",
            "ticks": ""
           },
           "bgcolor": "#E5ECF6",
           "radialaxis": {
            "gridcolor": "white",
            "linecolor": "white",
            "ticks": ""
           }
          },
          "scene": {
           "xaxis": {
            "backgroundcolor": "#E5ECF6",
            "gridcolor": "white",
            "gridwidth": 2,
            "linecolor": "white",
            "showbackground": true,
            "ticks": "",
            "zerolinecolor": "white"
           },
           "yaxis": {
            "backgroundcolor": "#E5ECF6",
            "gridcolor": "white",
            "gridwidth": 2,
            "linecolor": "white",
            "showbackground": true,
            "ticks": "",
            "zerolinecolor": "white"
           },
           "zaxis": {
            "backgroundcolor": "#E5ECF6",
            "gridcolor": "white",
            "gridwidth": 2,
            "linecolor": "white",
            "showbackground": true,
            "ticks": "",
            "zerolinecolor": "white"
           }
          },
          "shapedefaults": {
           "line": {
            "color": "#2a3f5f"
           }
          },
          "ternary": {
           "aaxis": {
            "gridcolor": "white",
            "linecolor": "white",
            "ticks": ""
           },
           "baxis": {
            "gridcolor": "white",
            "linecolor": "white",
            "ticks": ""
           },
           "bgcolor": "#E5ECF6",
           "caxis": {
            "gridcolor": "white",
            "linecolor": "white",
            "ticks": ""
           }
          },
          "title": {
           "x": 0.05
          },
          "xaxis": {
           "automargin": true,
           "gridcolor": "white",
           "linecolor": "white",
           "ticks": "",
           "title": {
            "standoff": 15
           },
           "zerolinecolor": "white",
           "zerolinewidth": 2
          },
          "yaxis": {
           "automargin": true,
           "gridcolor": "white",
           "linecolor": "white",
           "ticks": "",
           "title": {
            "standoff": 15
           },
           "zerolinecolor": "white",
           "zerolinewidth": 2
          }
         }
        },
        "title": {
         "text": "Comparação: Cursos vs Bolsistas por UF (via SQL)"
        },
        "width": 1000,
        "xaxis": {
         "anchor": "y",
         "domain": [
          0,
          1
         ],
         "title": {
          "text": "SG_UF"
         }
        },
        "yaxis": {
         "anchor": "x",
         "domain": [
          0,
          1
         ],
         "title": {
          "text": "Quantidade"
         }
        }
       }
      }
     },
     "metadata": {},
     "output_type": "display_data"
    }
   ],
   "source": [
    "fig = px.bar(df_sql.melt(id_vars='SG_UF', value_vars=['qtd_cursos', 'qtd_bolsistas']),\n",
    "             x='SG_UF', y='value', color='variable',\n",
    "             barmode='group',\n",
    "             labels={'value': 'Quantidade', 'variable': 'Indicador'},\n",
    "             text_auto=True,\n",
    "             title='Comparação: Cursos vs Bolsistas por UF (via SQL)',\n",
    "             width=1000, height=500)\n",
    "fig.show()"
   ]
  },
  {
   "cell_type": "markdown",
   "id": "537d1c0d",
   "metadata": {},
   "source": [
    "## Análise Estatística: Correlação"
   ]
  },
  {
   "cell_type": "code",
   "execution_count": 56,
   "id": "9fb06559",
   "metadata": {},
   "outputs": [
    {
     "name": "stdout",
     "output_type": "stream",
     "text": [
      "Correlação Pearson: 0.68 (p-valor: 0.0001)\n"
     ]
    }
   ],
   "source": [
    "corr, p_value = stats.pearsonr(df_sql['qtd_cursos'], df_sql['qtd_bolsistas'])\n",
    "print(f'Correlação Pearson: {corr:.2f} (p-valor: {p_value:.4f})')"
   ]
  },
  {
   "cell_type": "markdown",
   "id": "c9772145",
   "metadata": {},
   "source": [
    "## Regressão Linear"
   ]
  },
  {
   "cell_type": "code",
   "execution_count": 57,
   "id": "67c67a71",
   "metadata": {},
   "outputs": [
    {
     "name": "stdout",
     "output_type": "stream",
     "text": [
      "                            OLS Regression Results                            \n",
      "==============================================================================\n",
      "Dep. Variable:          qtd_bolsistas   R-squared:                       0.467\n",
      "Model:                            OLS   Adj. R-squared:                  0.446\n",
      "Method:                 Least Squares   F-statistic:                     21.94\n",
      "Date:                Sat, 21 Jun 2025   Prob (F-statistic):           8.46e-05\n",
      "Time:                        23:22:17   Log-Likelihood:                -265.14\n",
      "No. Observations:                  27   AIC:                             534.3\n",
      "Df Residuals:                      25   BIC:                             536.9\n",
      "Df Model:                           1                                         \n",
      "Covariance Type:            nonrobust                                         \n",
      "==============================================================================\n",
      "                 coef    std err          t      P>|t|      [0.025      0.975]\n",
      "------------------------------------------------------------------------------\n",
      "const        785.0919   1157.899      0.678      0.504   -1599.645    3169.829\n",
      "qtd_cursos     0.1417      0.030      4.684      0.000       0.079       0.204\n",
      "==============================================================================\n",
      "Omnibus:                       41.037   Durbin-Watson:                   2.139\n",
      "Prob(Omnibus):                  0.000   Jarque-Bera (JB):              125.831\n",
      "Skew:                           3.100   Prob(JB):                     4.74e-28\n",
      "Kurtosis:                      11.568   Cond. No.                     4.98e+04\n",
      "==============================================================================\n",
      "\n",
      "Notes:\n",
      "[1] Standard Errors assume that the covariance matrix of the errors is correctly specified.\n",
      "[2] The condition number is large, 4.98e+04. This might indicate that there are\n",
      "strong multicollinearity or other numerical problems.\n"
     ]
    }
   ],
   "source": [
    "X = df_sql['qtd_cursos']\n",
    "y = df_sql['qtd_bolsistas']\n",
    "\n",
    "X = sm.add_constant(X)\n",
    "model = sm.OLS(y, X).fit()\n",
    "print(model.summary())"
   ]
  },
  {
   "cell_type": "markdown",
   "id": "654d003a",
   "metadata": {},
   "source": [
    "## Conclusões e Recomendações\n",
    "\n",
    "- Maior concentração de cursos em algumas UFs.\n",
    "- Correlação positiva entre cursos e bolsistas CNPq.\n",
    "- A regressão confirma relação direta.\n",
    "\n",
    "**Recomendações:**\n",
    "\n",
    "- Fomentar bolsas onde há menor densidade.\n",
    "- Incentivar instituições privadas a investir mais em pesquisa.\n",
    "- Melhorar a integração entre bases públicas."
   ]
  }
 ],
 "metadata": {
  "kernelspec": {
   "display_name": ".venv",
   "language": "python",
   "name": "python3"
  },
  "language_info": {
   "codemirror_mode": {
    "name": "ipython",
    "version": 3
   },
   "file_extension": ".py",
   "mimetype": "text/x-python",
   "name": "python",
   "nbconvert_exporter": "python",
   "pygments_lexer": "ipython3",
   "version": "3.11.4"
  }
 },
 "nbformat": 4,
 "nbformat_minor": 5
}
