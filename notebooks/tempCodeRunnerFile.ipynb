print(df_cnpq.columns)
print(df_cnpq.head())